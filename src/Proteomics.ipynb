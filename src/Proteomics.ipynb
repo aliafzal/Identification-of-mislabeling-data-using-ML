{
 "cells": [
  {
   "cell_type": "markdown",
   "metadata": {},
   "source": [
    "# Filtering the Proteoimics data with respect to metadata\n",
    "\n",
    "In this notebook and RNA-Seq.ipynb, the available data is tested against their predictive power of metadata using the random forest classifier. Two rounds of classification with binary target variables is performed, with one having gender as the target,  and the other having the msi tumor characteristic as the target variable."
   ]
  },
  {
   "cell_type": "code",
   "execution_count": 1,
   "metadata": {},
   "outputs": [
    {
     "name": "stdout",
     "output_type": "stream",
     "text": [
      "Gender Visual.ipynb   Proteomics.ipynb      preprocess.py\r\n",
      "Import.ipynb          RNA-Seq Final.ipynb   \u001b[34mraw_data\u001b[m\u001b[m\r\n",
      "MSI Visual.ipynb      RNA-Seq.ipynb\r\n",
      "NA with RNA-Seq.ipynb \u001b[34m__pycache__\u001b[m\u001b[m\r\n"
     ]
    }
   ],
   "source": [
    "!ls\n",
    "#######################################################################"
   ]
  },
  {
   "cell_type": "code",
   "execution_count": 2,
   "metadata": {},
   "outputs": [],
   "source": [
    "import sys\n",
    "import os\n",
    "from IPython.utils import io\n",
    "from io import StringIO\n",
    "\n",
    "import re\n",
    "import csv\n",
    "\n",
    "import pandas as pd\n",
    "import numpy as np\n",
    "import scipy \n",
    "from scipy.cluster import hierarchy as hc # for dendograms \n",
    "\n",
    "import matplotlib.pyplot as plt\n",
    "import seaborn as sns\n",
    "%matplotlib inline\n",
    "# %matplotlib notebook\n",
    "\n",
    "from sklearn.metrics import f1_score # f1_score(y_true, y_pred)\n",
    "from sklearn.model_selection import train_test_split\n",
    "from sklearn.model_selection import GridSearchCV\n",
    "from sklearn.ensemble import RandomForestClassifier\n",
    "from sklearn.metrics import classification_report\n",
    "from sklearn.feature_selection import SelectFromModel"
   ]
  },
  {
   "cell_type": "markdown",
   "metadata": {},
   "source": [
    "## Import & show data \n",
    "\n",
    "The initial data proprocess was done in the Import.ipynb notebook. The following three steps are performed in all other jupyter notebooks: run the preprocess.py code that was generated in Import.ipynb, run the %whos magic command to see what dataframes have been imported, and then format the captured %who results with pandas to view results. #### show the imported dataframes"
   ]
  },
  {
   "cell_type": "code",
   "execution_count": 4,
   "metadata": {},
   "outputs": [],
   "source": [
    "%run preprocess.py\n",
    "# made in Import.ipynb"
   ]
  },
  {
   "cell_type": "code",
   "execution_count": 5,
   "metadata": {},
   "outputs": [],
   "source": [
    "with io.capture_output() as captured:\n",
    "    %whos DataFrame \n",
    "\n",
    "s = re.findall(r'\\S+|\\n', StringIO(captured.stdout).getvalue())"
   ]
  },
  {
   "cell_type": "code",
   "execution_count": 6,
   "metadata": {},
   "outputs": [
    {
     "data": {
      "text/html": [
       "<div>\n",
       "<style scoped>\n",
       "    .dataframe tbody tr th:only-of-type {\n",
       "        vertical-align: middle;\n",
       "    }\n",
       "\n",
       "    .dataframe tbody tr th {\n",
       "        vertical-align: top;\n",
       "    }\n",
       "\n",
       "    .dataframe thead th {\n",
       "        text-align: right;\n",
       "    }\n",
       "</style>\n",
       "<table border=\"1\" class=\"dataframe\">\n",
       "  <thead>\n",
       "    <tr style=\"text-align: right;\">\n",
       "      <th></th>\n",
       "      <th>Variable</th>\n",
       "      <th>Type</th>\n",
       "      <th>Data/Info</th>\n",
       "    </tr>\n",
       "  </thead>\n",
       "  <tbody>\n",
       "    <tr>\n",
       "      <th>0</th>\n",
       "      <td>df_test_cli</td>\n",
       "      <td>DataFrame</td>\n",
       "      <td>sample , gender , &lt;...&gt;g_80 , Female , MSI-High</td>\n",
       "    </tr>\n",
       "    <tr>\n",
       "      <th>1</th>\n",
       "      <td>df_test_pro</td>\n",
       "      <td>DataFrame</td>\n",
       "      <td>A1BG , &lt;...&gt;n[80 , rows , x , 4118 , columns]</td>\n",
       "    </tr>\n",
       "    <tr>\n",
       "      <th>2</th>\n",
       "      <td>df_test_rna</td>\n",
       "      <td>DataFrame</td>\n",
       "      <td>A1BG , A1B&lt;...&gt;[80 , rows , x , 17447 , columns]</td>\n",
       "    </tr>\n",
       "    <tr>\n",
       "      <th>3</th>\n",
       "      <td>df_train_cli</td>\n",
       "      <td>DataFrame</td>\n",
       "      <td>sample , gender , &lt;...&gt;g_80 , Female , MSI-Low/MSS</td>\n",
       "    </tr>\n",
       "    <tr>\n",
       "      <th>4</th>\n",
       "      <td>df_train_mislabel</td>\n",
       "      <td>DataFrame</td>\n",
       "      <td>sample , mismatch&lt;...&gt;79 , Training_80 , 1</td>\n",
       "    </tr>\n",
       "    <tr>\n",
       "      <th>5</th>\n",
       "      <td>df_train_pro</td>\n",
       "      <td>DataFrame</td>\n",
       "      <td>A1BG , &lt;...&gt;n[80 , rows , x , 4118 , columns]</td>\n",
       "    </tr>\n",
       "    <tr>\n",
       "      <th>6</th>\n",
       "      <td>df_train_rna</td>\n",
       "      <td>DataFrame</td>\n",
       "      <td>A1BG , A1&lt;...&gt;[80 , rows , x , 17447 , columns]</td>\n",
       "    </tr>\n",
       "    <tr>\n",
       "      <th>7</th>\n",
       "      <td>test_cli</td>\n",
       "      <td>DataFrame</td>\n",
       "      <td>gender , msi\\n&lt;...&gt;\\nTesting_80 , 1 , 1</td>\n",
       "    </tr>\n",
       "    <tr>\n",
       "      <th>8</th>\n",
       "      <td>test_pro</td>\n",
       "      <td>DataFrame</td>\n",
       "      <td>A1BG , &lt;...&gt;n[80 , rows , x , 4118 , columns]</td>\n",
       "    </tr>\n",
       "    <tr>\n",
       "      <th>9</th>\n",
       "      <td>test_rna</td>\n",
       "      <td>DataFrame</td>\n",
       "      <td>A1BG , A1B&lt;...&gt;[80 , rows , x , 17447 , columns]</td>\n",
       "    </tr>\n",
       "    <tr>\n",
       "      <th>10</th>\n",
       "      <td>train_cli</td>\n",
       "      <td>DataFrame</td>\n",
       "      <td>gender , msi\\n0 , &lt;...&gt; , 0 , 0\\n79 , 1 , 0</td>\n",
       "    </tr>\n",
       "    <tr>\n",
       "      <th>11</th>\n",
       "      <td>train_combined</td>\n",
       "      <td>DataFrame</td>\n",
       "      <td>mismatch , gender , msi&lt;...&gt;[80 , rows , x , 21568 , columns]</td>\n",
       "    </tr>\n",
       "    <tr>\n",
       "      <th>12</th>\n",
       "      <td>train_mislabel</td>\n",
       "      <td>DataFrame</td>\n",
       "      <td>mismatch\\n0 , &lt;...&gt;8 , 1\\n79 , 1</td>\n",
       "    </tr>\n",
       "    <tr>\n",
       "      <th>13</th>\n",
       "      <td>train_pro</td>\n",
       "      <td>DataFrame</td>\n",
       "      <td>A1BG , A2M , &lt;...&gt;n[80 , rows , x , 4118 , columns]</td>\n",
       "    </tr>\n",
       "    <tr>\n",
       "      <th>14</th>\n",
       "      <td>train_pro_combined</td>\n",
       "      <td>DataFrame</td>\n",
       "      <td>mismatch , gender , msi&lt;...&gt;n[80 , rows , x , 4121 , columns]</td>\n",
       "    </tr>\n",
       "    <tr>\n",
       "      <th>15</th>\n",
       "      <td>train_rna</td>\n",
       "      <td>DataFrame</td>\n",
       "      <td>A1BG , A1BG-AS1 , &lt;...&gt;[80 , rows , x , 17447 , columns]</td>\n",
       "    </tr>\n",
       "    <tr>\n",
       "      <th>16</th>\n",
       "      <td>train_rna_combined</td>\n",
       "      <td>DataFrame</td>\n",
       "      <td>mismatch , gender , msi&lt;...&gt;[80 , rows , x , 17450 , columns]</td>\n",
       "    </tr>\n",
       "  </tbody>\n",
       "</table>\n",
       "</div>"
      ],
      "text/plain": [
       "              Variable       Type  \\\n",
       "0   df_test_cli         DataFrame   \n",
       "1   df_test_pro         DataFrame   \n",
       "2   df_test_rna         DataFrame   \n",
       "3   df_train_cli        DataFrame   \n",
       "4   df_train_mislabel   DataFrame   \n",
       "5   df_train_pro        DataFrame   \n",
       "6   df_train_rna        DataFrame   \n",
       "7   test_cli            DataFrame   \n",
       "8   test_pro            DataFrame   \n",
       "9   test_rna            DataFrame   \n",
       "10  train_cli           DataFrame   \n",
       "11  train_combined      DataFrame   \n",
       "12  train_mislabel      DataFrame   \n",
       "13  train_pro           DataFrame   \n",
       "14  train_pro_combined  DataFrame   \n",
       "15  train_rna           DataFrame   \n",
       "16  train_rna_combined  DataFrame   \n",
       "\n",
       "                                                        Data/Info  \n",
       "0   sample , gender , <...>g_80 , Female , MSI-High                \n",
       "1   A1BG , <...>n[80 , rows , x , 4118 , columns]                  \n",
       "2   A1BG , A1B<...>[80 , rows , x , 17447 , columns]               \n",
       "3   sample , gender , <...>g_80 , Female , MSI-Low/MSS             \n",
       "4   sample , mismatch<...>79 , Training_80 , 1                     \n",
       "5   A1BG , <...>n[80 , rows , x , 4118 , columns]                  \n",
       "6   A1BG , A1<...>[80 , rows , x , 17447 , columns]                \n",
       "7   gender , msi\\n<...>\\nTesting_80 , 1 , 1                        \n",
       "8   A1BG , <...>n[80 , rows , x , 4118 , columns]                  \n",
       "9   A1BG , A1B<...>[80 , rows , x , 17447 , columns]               \n",
       "10  gender , msi\\n0 , <...> , 0 , 0\\n79 , 1 , 0                    \n",
       "11  mismatch , gender , msi<...>[80 , rows , x , 21568 , columns]  \n",
       "12  mismatch\\n0 , <...>8 , 1\\n79 , 1                               \n",
       "13  A1BG , A2M , <...>n[80 , rows , x , 4118 , columns]            \n",
       "14  mismatch , gender , msi<...>n[80 , rows , x , 4121 , columns]  \n",
       "15  A1BG , A1BG-AS1 , <...>[80 , rows , x , 17447 , columns]       \n",
       "16  mismatch , gender , msi<...>[80 , rows , x , 17450 , columns]  "
      ]
     },
     "execution_count": 6,
     "metadata": {},
     "output_type": "execute_result"
    }
   ],
   "source": [
    "table = []\n",
    "row = []\n",
    "\n",
    "for item in s:\n",
    "    if (item == '\\n'):\n",
    "        if (row):\n",
    "            table.append(row)\n",
    "        row = []\n",
    "    elif re.match('^(?!-)', item) is None:\n",
    "        pass        \n",
    "    else: \n",
    "        row.append(item)\n",
    "\n",
    "for item in table: \n",
    "    if (item[0] == 'Variable'):\n",
    "        pass\n",
    "    else:\n",
    "        item[2:] = [' , '.join(item[2:])]\n",
    "\n",
    "df = pd.DataFrame(data=table[1:], columns=table[0])\n",
    "pd.set_option('display.max_colwidth', -1)\n",
    "df"
   ]
  },
  {
   "cell_type": "code",
   "execution_count": 7,
   "metadata": {
    "scrolled": true
   },
   "outputs": [],
   "source": [
    "# train_pro_combined\n",
    "# train_rna_combined"
   ]
  },
  {
   "cell_type": "markdown",
   "metadata": {},
   "source": [
    "## Process\n",
    "\n",
    "The steps followed for each target are: \n",
    "\n",
    "1. Split into train and test sets.\n",
    "2. Run grid search to find best hyperparameters for random forest classifier. \n",
    "3. get rid of less predicitve genes in the dataset, using the variable importance threshhold. \n",
    "4. visualize the results and the relations between selected variables with a dendrogram. "
   ]
  },
  {
   "cell_type": "code",
   "execution_count": 8,
   "metadata": {},
   "outputs": [],
   "source": [
    "train_combined_correct =\\\n",
    "    train_pro_combined.loc[train_pro_combined['mismatch'] == 0]\n",
    "\n",
    "X_correct = train_combined_correct.drop(['mismatch'], \n",
    "                                        axis=1, \n",
    "                                        inplace=False)\n",
    "\n",
    "X_correct.reset_index(drop=True, inplace=True)\n",
    "\n",
    "gender_correct = X_correct['gender']\n",
    "msi_correct = X_correct['msi']\n",
    "X_correct = X_correct.drop(['gender', 'msi'], axis=1, inplace=False)\n",
    "\n",
    "columns = X_correct.columns"
   ]
  },
  {
   "cell_type": "code",
   "execution_count": 9,
   "metadata": {},
   "outputs": [],
   "source": [
    "# X_correct\n",
    "# gender_correct\n",
    "# msi_correct"
   ]
  },
  {
   "cell_type": "code",
   "execution_count": 10,
   "metadata": {},
   "outputs": [],
   "source": [
    "X_gender_train, X_gender_valid, y_gender_train, y_gender_valid =\\\n",
    "\\\n",
    "    train_test_split(X_correct.values.astype(int),\n",
    "                     gender_correct, \n",
    "                     test_size=0.3)"
   ]
  },
  {
   "cell_type": "code",
   "execution_count": 11,
   "metadata": {},
   "outputs": [],
   "source": [
    "# X_train\n",
    "# X_valid\n",
    "# y_train\n",
    "# y_valid"
   ]
  },
  {
   "cell_type": "code",
   "execution_count": 12,
   "metadata": {},
   "outputs": [
    {
     "name": "stdout",
     "output_type": "stream",
     "text": [
      "0.6595744680851063\n",
      "{'max_features': 'sqrt', 'min_samples_leaf': 1}\n"
     ]
    }
   ],
   "source": [
    "forest = RandomForestClassifier(n_estimators=500, \n",
    "                                n_jobs=-1, \n",
    "                                oob_score=True)\n",
    "\n",
    "# sorted(forest.get_params().keys())\n",
    "\n",
    "gs = GridSearchCV(estimator=forest,\n",
    "                  param_grid=[\n",
    "                      {'min_samples_leaf':[1, 3, 5, 10, 25, 100], \n",
    "                       'max_features':[None, 0.5, 'sqrt', 'log2']}],\n",
    "                  scoring='accuracy',\n",
    "                  cv=5,)\n",
    "\n",
    "gs = gs.fit(X_gender_train, y_gender_train)\n",
    "print(gs.best_score_)\n",
    "print(gs.best_params_)"
   ]
  },
  {
   "cell_type": "code",
   "execution_count": 13,
   "metadata": {
    "scrolled": true
   },
   "outputs": [
    {
     "name": "stdout",
     "output_type": "stream",
     "text": [
      " 1) GADD45GIP1                     0.068711\n",
      " 2) APPL1                          0.026492\n",
      " 3) AP1M2                          0.019410\n",
      " 4) SNRPA                          0.019239\n",
      " 5) PPP1CC                         0.019054\n",
      " 6) MRPL16                         0.017397\n",
      " 7) IKBIP                          0.017051\n",
      " 8) PAPSS1                         0.015874\n",
      " 9) SRPK1                          0.015611\n",
      "10) DNM3                           0.015124\n",
      "11) MAT2B                          0.010842\n",
      "12) TAF15                          0.010392\n",
      "13) WDR43                          0.009728\n",
      "14) TPD52                          0.009361\n",
      "15) ACOT9                          0.007391\n",
      "16) GAK                            0.007318\n",
      "17) SERPINA6                       0.007028\n",
      "18) DAP                            0.006953\n",
      "19) IGLL5                          0.006681\n",
      "20) NAP1L1                         0.006628\n",
      "21) XPNPEP1                        0.006576\n",
      "22) FAM3D                          0.006197\n",
      "23) RPL39                          0.006053\n",
      "24) SLC35A2                        0.006049\n",
      "25) AGRN                           0.005752\n",
      "26) ACSS2                          0.005722\n",
      "27) TBC1D4                         0.005699\n",
      "28) MRC2                           0.005636\n",
      "29) VPS4B                          0.005462\n",
      "30) PPP2R2A                        0.005406\n",
      "31) GALM                           0.004933\n",
      "32) G3BP1                          0.004907\n",
      "33) ATIC                           0.004741\n",
      "34) HSPA2                          0.004607\n",
      "35) TOMM34                         0.004511\n",
      "36) TECR                           0.004493\n",
      "37) PRPF19                         0.004332\n",
      "38) VAC14                          0.004329\n",
      "39) DARS2                          0.004299\n",
      "40) FHL1                           0.004253\n",
      "41) S100A6                         0.004052\n",
      "42) TNXB                           0.003950\n",
      "43) AOC3                           0.003915\n",
      "44) GPA33                          0.003904\n",
      "45) GTPBP10                        0.003858\n",
      "46) FKBP9                          0.003826\n",
      "47) PSMA2                          0.003739\n",
      "48) SYNM                           0.003642\n",
      "49) QTRT2                          0.003485\n",
      "50) ASPN                           0.003453\n",
      "51) CAD                            0.003370\n",
      "52) PDXK                           0.003352\n",
      "53) CHRAC1                         0.003347\n",
      "54) CTSB                           0.003299\n",
      "55) P01966                         0.003266\n",
      "56) ALDOA                          0.003265\n",
      "57) FLNC                           0.003260\n",
      "58) POC1B-GALNT4                   0.003249\n",
      "59) C1QB                           0.003215\n",
      "60) ENDOD1                         0.003214\n",
      "61) SRSF10                         0.003204\n",
      "62) CDS2                           0.003156\n",
      "63) REEP6                          0.003139\n",
      "64) MYO9B                          0.003109\n",
      "65) SYMPK                          0.003101\n",
      "66) DYNLL1                         0.003065\n",
      "67) INTS4                          0.003064\n",
      "68) GLS                            0.003063\n",
      "69) PGM5                           0.003061\n",
      "70) GATAD2A                        0.003059\n",
      "71) ACAA2                          0.003048\n",
      "72) LYPLAL1                        0.003038\n",
      "73) RPIA                           0.003020\n",
      "74) ATP2A3                         0.002988\n",
      "75) C15orf48                       0.002915\n",
      "76) CSK                            0.002815\n",
      "77) NNMT                           0.002758\n",
      "78) MICAL1                         0.002666\n",
      "79) IPO9                           0.002636\n",
      "80) ABCE1                          0.002626\n",
      "81) ZNF706                         0.002556\n",
      "82) BAG5                           0.002546\n",
      "83) C4A                            0.002535\n",
      "84) OGN                            0.002528\n",
      "85) LY75                           0.002496\n",
      "86) FGB                            0.002475\n",
      "87) BTAF1                          0.002453\n",
      "88) NAPRT                          0.002437\n",
      "89) MUC5B                          0.002432\n",
      "90) TAGLN                          0.002393\n",
      "91) GNB2                           0.002380\n",
      "92) MAPK3                          0.002341\n",
      "93) SKIV2L2                        0.002334\n",
      "94) MRPS9                          0.002333\n",
      "95) PTMA                           0.002328\n",
      "96) P3H1                           0.002328\n",
      "97) CD2AP                          0.002312\n",
      "98) CBFB                           0.002251\n",
      "99) SRSF9                          0.002246\n",
      "100) LRPPRC                         0.002234\n"
     ]
    },
    {
     "data": {
      "text/plain": [
       "<BarContainer object of 4118 artists>"
      ]
     },
     "execution_count": 13,
     "metadata": {},
     "output_type": "execute_result"
    },
    {
     "data": {
      "image/png": "[encoded data removed]",
      "text/plain": [
       "<Figure size 432x288 with 1 Axes>"
      ]
     },
     "metadata": {},
     "output_type": "display_data"
    }
   ],
   "source": [
    "gender_forest = RandomForestClassifier(n_estimators=500,\n",
    "                                min_samples_leaf=3,\n",
    "                                max_features=None,\n",
    "                                n_jobs=-1, \n",
    "                                oob_score=True)\n",
    "gender_forest.fit(X_gender_train, y_gender_train)\n",
    "\n",
    "gender_importances = gender_forest.feature_importances_\n",
    "gender_indices = np.argsort(gender_importances)[::-1]\n",
    "\n",
    "# for f in range(X_gender_train[1]): # to get the full results\n",
    "for f in range(100):\n",
    "    print(\"%2d) %-*s %f\" % (f + 1, \n",
    "                            30, \n",
    "                            columns[gender_indices[f]], \n",
    "                            gender_importances[gender_indices[f]]))\n",
    "    \n",
    "plt.title('Feature Importance')\n",
    "\n",
    "plt.bar(range(X_gender_train.shape[1]), \n",
    "        gender_importances[gender_indices], \n",
    "        align='center')"
   ]
  },
  {
   "cell_type": "code",
   "execution_count": 14,
   "metadata": {},
   "outputs": [
    {
     "name": "stdout",
     "output_type": "stream",
     "text": [
      "k=5 Nearest Neighbors: \n",
      "              precision    recall  f1-score   support\n",
      "\n",
      "          0       1.00      0.38      0.55         8\n",
      "          1       0.72      1.00      0.84        13\n",
      "\n",
      "avg / total       0.83      0.76      0.73        21\n",
      "\n",
      "OOB score:  0.5106382978723404\n"
     ]
    }
   ],
   "source": [
    "y_gender_pred = gender_forest.predict(X_gender_valid)\n",
    "print('k=5 Nearest Neighbors: \\n', \n",
    "      classification_report(y_true=y_gender_valid, y_pred=y_gender_pred))\n",
    "print('OOB score: ', gender_forest.oob_score_)"
   ]
  },
  {
   "cell_type": "code",
   "execution_count": 16,
   "metadata": {},
   "outputs": [],
   "source": [
    "gender_select = SelectFromModel(gender_forest, threshold=0.005)\n",
    "\n",
    "gender_select.fit(X_gender_train, y_gender_train)\n",
    "\n",
    "X_gender_important_train = gender_select.transform(X_gender_train)\n",
    "X_gender_important_train_df = pd.DataFrame(X_gender_important_train)\n",
    "X_gender_important_valid = gender_select.transform(X_gender_valid)"
   ]
  },
  {
   "cell_type": "code",
   "execution_count": 17,
   "metadata": {},
   "outputs": [
    {
     "name": "stdout",
     "output_type": "stream",
     "text": [
      "k=5 Nearest Neighbors: \n",
      "              precision    recall  f1-score   support\n",
      "\n",
      "          0       1.00      0.38      0.55         8\n",
      "          1       0.72      1.00      0.84        13\n",
      "\n",
      "avg / total       0.83      0.76      0.73        21\n",
      "\n",
      "OOB score:  0.723404255319149\n"
     ]
    }
   ],
   "source": [
    "gender_forest.fit(X_gender_important_train, y_gender_train)\n",
    "y_pred = gender_forest.predict(X_gender_important_valid)\n",
    "print('k=5 Nearest Neighbors: \\n', \n",
    "      classification_report(y_true=y_gender_valid, y_pred=y_gender_pred))\n",
    "print('OOB score: ', gender_forest.oob_score_)"
   ]
  },
  {
   "cell_type": "code",
   "execution_count": 18,
   "metadata": {},
   "outputs": [
    {
     "data": {
      "image/png": "[encoded data removed]",
      "text/plain": [
       "<Figure size 1152x720 with 1 Axes>"
      ]
     },
     "metadata": {},
     "output_type": "display_data"
    }
   ],
   "source": [
    "gender_corr = np.round(\n",
    "            scipy.stats.spearmanr(X_gender_important_train).correlation\n",
    "                   , 4)\n",
    "\n",
    "gender_corr_condensed = hc.distance.squareform(1-gender_corr)\n",
    "\n",
    "z = hc.linkage(gender_corr_condensed, method='average')\n",
    "fig = plt.figure(figsize=(16,10))\n",
    "\n",
    "gender_dendrogram = hc.dendrogram(\n",
    "                z, \n",
    "                labels=X_gender_important_train_df.columns, \n",
    "                orientation='left', \n",
    "                leaf_font_size=16)\n",
    "plt.show()"
   ]
  },
  {
   "cell_type": "code",
   "execution_count": 19,
   "metadata": {},
   "outputs": [],
   "source": [
    "X_msi_train, X_msi_valid, y_msi_train, y_msi_valid =\\\n",
    "\\\n",
    "    train_test_split(X_correct.values.astype(int),\n",
    "                     msi_correct,\n",
    "                     test_size=0.3)"
   ]
  },
  {
   "cell_type": "code",
   "execution_count": 20,
   "metadata": {},
   "outputs": [],
   "source": [
    "forest = RandomForestClassifier(n_estimators=500, \n",
    "                                n_jobs=-1, \n",
    "                                oob_score=True)\n",
    "\n",
    "# sorted(forest.get_params().keys())\n",
    "\n",
    "gs = GridSearchCV(estimator=forest,\n",
    "                  param_grid=[{'min_samples_leaf':[1, 3, 5, 10, 25, 100], \n",
    "                               'max_features':[None, 0.5, 'sqrt', 'log2']}],\n",
    "                  scoring='accuracy',\n",
    "                  cv=5,)\n",
    "\n",
    "gs = gs.fit(X_msi_train, y_msi_train)\n",
    "print(gs.best_score_)\n",
    "print(gs.best_params_)"
   ]
  },
  {
   "cell_type": "code",
   "execution_count": 21,
   "metadata": {},
   "outputs": [
    {
     "name": "stdout",
     "output_type": "stream",
     "text": [
      " 1) CASK                           0.168726\n",
      " 2) UBE2L6                         0.100945\n",
      " 3) PTPRC                          0.077407\n",
      " 4) MANF                           0.058642\n",
      " 5) TAP1                           0.053728\n",
      " 6) IFI30                          0.037353\n",
      " 7) GBP1                           0.027853\n",
      " 8) TAPBP                          0.018825\n",
      " 9) ATOX1                          0.018200\n",
      "10) PLEK                           0.017939\n",
      "11) ADPGK                          0.017926\n",
      "12) ACSL5                          0.017626\n",
      "13) LSP1                           0.017033\n",
      "14) DLG1                           0.016146\n",
      "15) TYMP                           0.014558\n",
      "16) CKB                            0.013136\n",
      "17) CD74                           0.010848\n",
      "18) HP                             0.010013\n",
      "19) ATP6V1B2                       0.009437\n",
      "20) KLC4                           0.008982\n",
      "21) SNX12                          0.008713\n",
      "22) IFI35                          0.008527\n",
      "23) MARCKSL1                       0.007936\n",
      "24) GBP2                           0.007907\n",
      "25) FMNL1                          0.007499\n",
      "26) PLOD3                          0.007428\n",
      "27) HAT1                           0.006580\n",
      "28) PSMB4                          0.006394\n",
      "29) UBA6                           0.006040\n",
      "30) APOL2                          0.005886\n",
      "31) POLR2A                         0.005855\n",
      "32) GMFB                           0.005816\n",
      "33) MCM3                           0.005710\n",
      "34) HSDL2                          0.004923\n",
      "35) PLSCR1                         0.004475\n",
      "36) TRNT1                          0.004271\n",
      "37) LMO7                           0.004243\n",
      "38) BLVRA                          0.004226\n",
      "39) OSTF1                          0.004207\n",
      "40) ARL3                           0.004012\n",
      "41) PGAM1                          0.004009\n",
      "42) NDUFB4                         0.003960\n",
      "43) ABHD16A                        0.003929\n",
      "44) DDAH2                          0.003896\n",
      "45) NMI                            0.003732\n",
      "46) HLA-DQB1                       0.003668\n",
      "47) MAT2B                          0.003638\n",
      "48) MYH14                          0.003623\n",
      "49) WARS                           0.003398\n",
      "50) LAP3                           0.003197\n",
      "51) EIF4A3                         0.002444\n",
      "52) TMED7                          0.002432\n",
      "53) FERMT1                         0.002400\n",
      "54) NAGK                           0.002282\n",
      "55) CNBP                           0.002210\n",
      "56) SPTLC2                         0.002179\n",
      "57) MCMBP                          0.002168\n",
      "58) AP1G1                          0.002079\n",
      "59) MYO1G                          0.002017\n",
      "60) SDF2L1                         0.002000\n",
      "61) LYN                            0.002000\n",
      "62) ITPA                           0.002000\n",
      "63) C17orf49                       0.002000\n",
      "64) ST14                           0.002000\n",
      "65) RPL5                           0.002000\n",
      "66) CNDP2                          0.001992\n",
      "67) FGB                            0.001976\n",
      "68) IL4I1                          0.001968\n",
      "69) CYP2S1                         0.001963\n",
      "70) RPL3                           0.001951\n",
      "71) PCCB                           0.001951\n",
      "72) RBP4                           0.001944\n",
      "73) HBB                            0.001944\n",
      "74) MCM6                           0.001942\n",
      "75) NARS                           0.001940\n",
      "76) UGDH                           0.001929\n",
      "77) OXCT1                          0.001892\n",
      "78) DDX60                          0.001881\n",
      "79) ITGB2                          0.001875\n",
      "80) PARP1                          0.001867\n",
      "81) TSR1                           0.001835\n",
      "82) ANP32E                         0.001827\n",
      "83) CAPZA1                         0.001781\n",
      "84) XPOT                           0.001732\n",
      "85) ERMP1                          0.001694\n",
      "86) COPG2                          0.001660\n",
      "87) VPS36                          0.001482\n",
      "88) TBRG4                          0.001269\n",
      "89) STX12                          0.000918\n",
      "90) VPS33A                         0.000904\n",
      "91) NUDC                           0.000767\n",
      "92) ITGA1                          0.000733\n",
      "93) RHOC                           0.000702\n",
      "94) TMEM165                        0.000640\n",
      "95) RABAC1                         0.000636\n",
      "96) IMPDH2                         0.000611\n",
      "97) SCPEP1                         0.000610\n",
      "98) CCT6A                          0.000608\n",
      "99) PSMA1                          0.000531\n",
      "100) ATP5C1                         0.000527\n"
     ]
    },
    {
     "data": {
      "text/plain": [
       "<BarContainer object of 4118 artists>"
      ]
     },
     "execution_count": 21,
     "metadata": {},
     "output_type": "execute_result"
    },
    {
     "data": {
      "image/png": "[encoded data removed]",
      "text/plain": [
       "<Figure size 432x288 with 1 Axes>"
      ]
     },
     "metadata": {},
     "output_type": "display_data"
    }
   ],
   "source": [
    "msi_forest = RandomForestClassifier(n_estimators=500,\n",
    "                                min_samples_leaf=5,\n",
    "                                max_features=None,\n",
    "                                n_jobs=-1, \n",
    "                                oob_score=True)\n",
    "\n",
    "msi_forest.fit(X_msi_train, y_msi_train)\n",
    "\n",
    "msi_importances = msi_forest.feature_importances_\n",
    "msi_indices = np.argsort(msi_importances)[::-1]\n",
    "\n",
    "# for f in range(X_train.shape[1]): # to get the full results\n",
    "for f in range(100):\n",
    "    print(\"%2d) %-*s %f\" % (f + 1, \n",
    "                            30, \n",
    "                            columns[msi_indices[f]], \n",
    "                            msi_importances[msi_indices[f]]))\n",
    "    \n",
    "plt.title('Feature Importance')\n",
    "plt.bar(range(X_msi_train.shape[1]), \n",
    "        msi_importances[msi_indices], \n",
    "        align='center')"
   ]
  },
  {
   "cell_type": "code",
   "execution_count": 22,
   "metadata": {},
   "outputs": [
    {
     "name": "stdout",
     "output_type": "stream",
     "text": [
      "k=5 Nearest Neighbors: \n",
      "              precision    recall  f1-score   support\n",
      "\n",
      "          0       0.89      0.94      0.92        18\n",
      "          1       0.50      0.33      0.40         3\n",
      "\n",
      "avg / total       0.84      0.86      0.84        21\n",
      "\n",
      "OOB score:  0.7872340425531915\n"
     ]
    }
   ],
   "source": [
    "y_msi_pred = msi_forest.predict(X_msi_valid)\n",
    "\n",
    "print('k=5 Nearest Neighbors: \\n', \n",
    "      classification_report(y_true=y_msi_valid, y_pred=y_msi_pred))\n",
    "\n",
    "print('OOB score: ', msi_forest.oob_score_)"
   ]
  },
  {
   "cell_type": "code",
   "execution_count": 23,
   "metadata": {},
   "outputs": [],
   "source": [
    "msi_select = SelectFromModel(msi_forest, threshold=0.005)\n",
    "\n",
    "msi_select.fit(X_msi_train, y_msi_train)\n",
    "\n",
    "X_msi_important_train = msi_select.transform(X_msi_train)\n",
    "X_msi_important_train_df = pd.DataFrame(X_msi_important_train)\n",
    "X_msi_important_valid = msi_select.transform(X_msi_valid)"
   ]
  },
  {
   "cell_type": "code",
   "execution_count": 24,
   "metadata": {},
   "outputs": [
    {
     "name": "stdout",
     "output_type": "stream",
     "text": [
      "k=5 Nearest Neighbors: \n",
      "              precision    recall  f1-score   support\n",
      "\n",
      "          0       0.89      0.94      0.92        18\n",
      "          1       0.50      0.33      0.40         3\n",
      "\n",
      "avg / total       0.84      0.86      0.84        21\n",
      "\n",
      "OOB score:  0.851063829787234\n"
     ]
    }
   ],
   "source": [
    "msi_forest.fit(X_msi_important_train, y_msi_train)\n",
    "y_msi_pred = msi_forest.predict(X_msi_important_valid)\n",
    "print('k=5 Nearest Neighbors: \\n', \n",
    "      classification_report(y_true=y_msi_valid, \n",
    "                            y_pred=y_msi_pred))\n",
    "\n",
    "print('OOB score: ', msi_forest.oob_score_)"
   ]
  },
  {
   "cell_type": "code",
   "execution_count": 25,
   "metadata": {},
   "outputs": [
    {
     "data": {
      "image/png": "[encoded data removed]",
      "text/plain": [
       "<Figure size 1152x720 with 1 Axes>"
      ]
     },
     "metadata": {},
     "output_type": "display_data"
    }
   ],
   "source": [
    "msi_corr = np.round(scipy.stats.spearmanr(X_msi_important_train).correlation, 4)\n",
    "msi_corr_condensed = hc.distance.squareform(1-msi_corr)\n",
    "msi_z = hc.linkage(msi_corr_condensed, method='average')\n",
    "fig = plt.figure(figsize=(16,10))\n",
    "msi_dendrogram = hc.dendrogram(msi_z, labels=X_msi_important_train_df.columns, orientation='left', leaf_font_size=16)\n",
    "plt.show()"
   ]
  },
  {
   "cell_type": "code",
   "execution_count": null,
   "metadata": {},
   "outputs": [],
   "source": []
  }
 ],
 "metadata": {
  "kernelspec": {
   "display_name": "Python 3",
   "language": "python",
   "name": "python3"
  },
  "language_info": {
   "codemirror_mode": {
    "name": "ipython",
    "version": 3
   },
   "file_extension": ".py",
   "mimetype": "text/x-python",
   "name": "python",
   "nbconvert_exporter": "python",
   "pygments_lexer": "ipython3",
   "version": "3.6.5"
  }
 },
 "nbformat": 4,
 "nbformat_minor": 2
}
