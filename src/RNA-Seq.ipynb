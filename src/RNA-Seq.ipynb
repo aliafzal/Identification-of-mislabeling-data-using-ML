{
 "cells": [
  {
   "cell_type": "markdown",
   "metadata": {},
   "source": [
    "# Filtering the RNA-Seq data with respect to metadata\n",
    "\n",
    "In this notebook and Proteomics.ipynb, the available data is tested against their predictive power of metadata using the random forest classifier. Two rounds of classification with binary target variables is performed, with one having gender as the target,  and the other having the msi tumor characteristic as the target variable."
   ]
  },
  {
   "cell_type": "code",
   "execution_count": 1,
   "metadata": {},
   "outputs": [
    {
     "name": "stdout",
     "output_type": "stream",
     "text": [
      "Gender Visual.ipynb   Proteomics.ipynb      preprocess.py\r\n",
      "Import.ipynb          RNA-Seq Final.ipynb   \u001b[34mraw_data\u001b[m\u001b[m\r\n",
      "MSI Visual.ipynb      RNA-Seq.ipynb\r\n",
      "NA with RNA-Seq.ipynb \u001b[34m__pycache__\u001b[m\u001b[m\r\n"
     ]
    }
   ],
   "source": [
    "!ls\n",
    "#######################################################################"
   ]
  },
  {
   "cell_type": "code",
   "execution_count": 2,
   "metadata": {},
   "outputs": [],
   "source": [
    "import sys\n",
    "import os\n",
    "from IPython.utils import io\n",
    "from io import StringIO\n",
    "\n",
    "import re\n",
    "import csv\n",
    "\n",
    "import pandas as pd\n",
    "import numpy as np\n",
    "import scipy \n",
    "from scipy.cluster import hierarchy as hc # for dendograms \n",
    "\n",
    "import matplotlib.pyplot as plt\n",
    "import seaborn as sns\n",
    "%matplotlib inline\n",
    "# %matplotlib notebook\n",
    "\n",
    "from sklearn.metrics import f1_score # f1_score(y_true, y_pred)\n",
    "from sklearn.model_selection import train_test_split\n",
    "from sklearn.model_selection import GridSearchCV\n",
    "from sklearn.ensemble import RandomForestClassifier\n",
    "from sklearn.metrics import classification_report\n",
    "from sklearn.feature_selection import SelectFromModel"
   ]
  },
  {
   "cell_type": "markdown",
   "metadata": {},
   "source": [
    "## Import & show data \n",
    "\n",
    "The initial data proprocess was done in the Import.ipynb notebook. The following three steps are performed in all other jupyter notebooks: run the preprocess.py code that was generated in Import.ipynb, run the %whos magic command to see what dataframes have been imported, and then format the captured %who results with pandas to view results. #### show the imported dataframes"
   ]
  },
  {
   "cell_type": "code",
   "execution_count": 3,
   "metadata": {},
   "outputs": [],
   "source": [
    "%run preprocess.py\n",
    "# made in Import.ipynb"
   ]
  },
  {
   "cell_type": "code",
   "execution_count": 4,
   "metadata": {},
   "outputs": [],
   "source": [
    "with io.capture_output() as captured:\n",
    "    %whos DataFrame \n",
    "\n",
    "s = re.findall(r'\\S+|\\n', StringIO(captured.stdout).getvalue())"
   ]
  },
  {
   "cell_type": "code",
   "execution_count": 6,
   "metadata": {
    "scrolled": false
   },
   "outputs": [
    {
     "data": {
      "text/html": [
       "<div>\n",
       "<style scoped>\n",
       "    .dataframe tbody tr th:only-of-type {\n",
       "        vertical-align: middle;\n",
       "    }\n",
       "\n",
       "    .dataframe tbody tr th {\n",
       "        vertical-align: top;\n",
       "    }\n",
       "\n",
       "    .dataframe thead th {\n",
       "        text-align: right;\n",
       "    }\n",
       "</style>\n",
       "<table border=\"1\" class=\"dataframe\">\n",
       "  <thead>\n",
       "    <tr style=\"text-align: right;\">\n",
       "      <th></th>\n",
       "      <th>Variable</th>\n",
       "      <th>Type</th>\n",
       "      <th>Data/Info</th>\n",
       "    </tr>\n",
       "  </thead>\n",
       "  <tbody>\n",
       "    <tr>\n",
       "      <th>0</th>\n",
       "      <td>df_test_cli</td>\n",
       "      <td>DataFrame</td>\n",
       "      <td>sample , gender , &lt;...&gt;g_80 , Female , MSI-High</td>\n",
       "    </tr>\n",
       "    <tr>\n",
       "      <th>1</th>\n",
       "      <td>df_test_pro</td>\n",
       "      <td>DataFrame</td>\n",
       "      <td>A1BG , &lt;...&gt;n[80 , rows , x , 4118 , columns]</td>\n",
       "    </tr>\n",
       "    <tr>\n",
       "      <th>2</th>\n",
       "      <td>df_test_rna</td>\n",
       "      <td>DataFrame</td>\n",
       "      <td>A1BG , A1B&lt;...&gt;[80 , rows , x , 17447 , columns]</td>\n",
       "    </tr>\n",
       "    <tr>\n",
       "      <th>3</th>\n",
       "      <td>df_train_cli</td>\n",
       "      <td>DataFrame</td>\n",
       "      <td>sample , gender , &lt;...&gt;g_80 , Female , MSI-Low/MSS</td>\n",
       "    </tr>\n",
       "    <tr>\n",
       "      <th>4</th>\n",
       "      <td>df_train_mislabel</td>\n",
       "      <td>DataFrame</td>\n",
       "      <td>sample , mismatch&lt;...&gt;79 , Training_80 , 1</td>\n",
       "    </tr>\n",
       "    <tr>\n",
       "      <th>5</th>\n",
       "      <td>df_train_pro</td>\n",
       "      <td>DataFrame</td>\n",
       "      <td>A1BG , &lt;...&gt;n[80 , rows , x , 4118 , columns]</td>\n",
       "    </tr>\n",
       "    <tr>\n",
       "      <th>6</th>\n",
       "      <td>df_train_rna</td>\n",
       "      <td>DataFrame</td>\n",
       "      <td>A1BG , A1&lt;...&gt;[80 , rows , x , 17447 , columns]</td>\n",
       "    </tr>\n",
       "    <tr>\n",
       "      <th>7</th>\n",
       "      <td>test_cli</td>\n",
       "      <td>DataFrame</td>\n",
       "      <td>gender , msi\\n&lt;...&gt;\\nTesting_80 , 1 , 1</td>\n",
       "    </tr>\n",
       "    <tr>\n",
       "      <th>8</th>\n",
       "      <td>test_pro</td>\n",
       "      <td>DataFrame</td>\n",
       "      <td>A1BG , &lt;...&gt;n[80 , rows , x , 4118 , columns]</td>\n",
       "    </tr>\n",
       "    <tr>\n",
       "      <th>9</th>\n",
       "      <td>test_rna</td>\n",
       "      <td>DataFrame</td>\n",
       "      <td>A1BG , A1B&lt;...&gt;[80 , rows , x , 17447 , columns]</td>\n",
       "    </tr>\n",
       "    <tr>\n",
       "      <th>10</th>\n",
       "      <td>train_cli</td>\n",
       "      <td>DataFrame</td>\n",
       "      <td>gender , msi\\n0 , &lt;...&gt; , 0 , 0\\n79 , 1 , 0</td>\n",
       "    </tr>\n",
       "    <tr>\n",
       "      <th>11</th>\n",
       "      <td>train_combined</td>\n",
       "      <td>DataFrame</td>\n",
       "      <td>mismatch , gender , msi&lt;...&gt;[80 , rows , x , 21568 , columns]</td>\n",
       "    </tr>\n",
       "    <tr>\n",
       "      <th>12</th>\n",
       "      <td>train_mislabel</td>\n",
       "      <td>DataFrame</td>\n",
       "      <td>mismatch\\n0 , &lt;...&gt;8 , 1\\n79 , 1</td>\n",
       "    </tr>\n",
       "    <tr>\n",
       "      <th>13</th>\n",
       "      <td>train_pro</td>\n",
       "      <td>DataFrame</td>\n",
       "      <td>A1BG , A2M , &lt;...&gt;n[80 , rows , x , 4118 , columns]</td>\n",
       "    </tr>\n",
       "    <tr>\n",
       "      <th>14</th>\n",
       "      <td>train_pro_combined</td>\n",
       "      <td>DataFrame</td>\n",
       "      <td>mismatch , gender , msi&lt;...&gt;n[80 , rows , x , 4121 , columns]</td>\n",
       "    </tr>\n",
       "    <tr>\n",
       "      <th>15</th>\n",
       "      <td>train_rna</td>\n",
       "      <td>DataFrame</td>\n",
       "      <td>A1BG , A1BG-AS1 , &lt;...&gt;[80 , rows , x , 17447 , columns]</td>\n",
       "    </tr>\n",
       "    <tr>\n",
       "      <th>16</th>\n",
       "      <td>train_rna_combined</td>\n",
       "      <td>DataFrame</td>\n",
       "      <td>mismatch , gender , msi&lt;...&gt;[80 , rows , x , 17450 , columns]</td>\n",
       "    </tr>\n",
       "  </tbody>\n",
       "</table>\n",
       "</div>"
      ],
      "text/plain": [
       "              Variable       Type  \\\n",
       "0   df_test_cli         DataFrame   \n",
       "1   df_test_pro         DataFrame   \n",
       "2   df_test_rna         DataFrame   \n",
       "3   df_train_cli        DataFrame   \n",
       "4   df_train_mislabel   DataFrame   \n",
       "5   df_train_pro        DataFrame   \n",
       "6   df_train_rna        DataFrame   \n",
       "7   test_cli            DataFrame   \n",
       "8   test_pro            DataFrame   \n",
       "9   test_rna            DataFrame   \n",
       "10  train_cli           DataFrame   \n",
       "11  train_combined      DataFrame   \n",
       "12  train_mislabel      DataFrame   \n",
       "13  train_pro           DataFrame   \n",
       "14  train_pro_combined  DataFrame   \n",
       "15  train_rna           DataFrame   \n",
       "16  train_rna_combined  DataFrame   \n",
       "\n",
       "                                                        Data/Info  \n",
       "0   sample , gender , <...>g_80 , Female , MSI-High                \n",
       "1   A1BG , <...>n[80 , rows , x , 4118 , columns]                  \n",
       "2   A1BG , A1B<...>[80 , rows , x , 17447 , columns]               \n",
       "3   sample , gender , <...>g_80 , Female , MSI-Low/MSS             \n",
       "4   sample , mismatch<...>79 , Training_80 , 1                     \n",
       "5   A1BG , <...>n[80 , rows , x , 4118 , columns]                  \n",
       "6   A1BG , A1<...>[80 , rows , x , 17447 , columns]                \n",
       "7   gender , msi\\n<...>\\nTesting_80 , 1 , 1                        \n",
       "8   A1BG , <...>n[80 , rows , x , 4118 , columns]                  \n",
       "9   A1BG , A1B<...>[80 , rows , x , 17447 , columns]               \n",
       "10  gender , msi\\n0 , <...> , 0 , 0\\n79 , 1 , 0                    \n",
       "11  mismatch , gender , msi<...>[80 , rows , x , 21568 , columns]  \n",
       "12  mismatch\\n0 , <...>8 , 1\\n79 , 1                               \n",
       "13  A1BG , A2M , <...>n[80 , rows , x , 4118 , columns]            \n",
       "14  mismatch , gender , msi<...>n[80 , rows , x , 4121 , columns]  \n",
       "15  A1BG , A1BG-AS1 , <...>[80 , rows , x , 17447 , columns]       \n",
       "16  mismatch , gender , msi<...>[80 , rows , x , 17450 , columns]  "
      ]
     },
     "execution_count": 6,
     "metadata": {},
     "output_type": "execute_result"
    }
   ],
   "source": [
    "table = []\n",
    "row = []\n",
    "\n",
    "for item in s:\n",
    "    if (item == '\\n'):\n",
    "        if (row):\n",
    "            table.append(row)\n",
    "        row = []\n",
    "    elif re.match('^(?!-)', item) is None:\n",
    "        pass        \n",
    "    else: \n",
    "        row.append(item)\n",
    "\n",
    "for item in table: \n",
    "    if (item[0] == 'Variable'):\n",
    "        pass\n",
    "    else:\n",
    "        item[2:] = [' , '.join(item[2:])]\n",
    "\n",
    "df = pd.DataFrame(data=table[1:], columns=table[0])\n",
    "pd.set_option('display.max_colwidth', -1)\n",
    "df"
   ]
  },
  {
   "cell_type": "code",
   "execution_count": 29,
   "metadata": {},
   "outputs": [],
   "source": [
    "# train_pro_combined.head()"
   ]
  },
  {
   "cell_type": "code",
   "execution_count": 30,
   "metadata": {},
   "outputs": [],
   "source": [
    "# train_rna_combined.head()"
   ]
  },
  {
   "cell_type": "markdown",
   "metadata": {},
   "source": [
    "## Process\n",
    "\n",
    "The steps followed for each target are: \n",
    "\n",
    "1. Split into train and test sets.\n",
    "2. Run grid search to find best hyperparameters for random forest classifier. \n",
    "3. get rid of less predicitve genes in the dataset, using the variable importance threshhold. \n",
    "4. visualize the results and the relations between selected variables with a dendrogram. "
   ]
  },
  {
   "cell_type": "code",
   "execution_count": 9,
   "metadata": {},
   "outputs": [],
   "source": [
    "train_combined_correct =\\\n",
    "    train_rna_combined.loc[train_rna_combined['mismatch'] == 0]\n",
    "\n",
    "X_correct = train_combined_correct.drop(['mismatch'], \n",
    "                                        axis=1, \n",
    "                                        inplace=False)\n",
    "\n",
    "X_correct.reset_index(drop=True, inplace=True)\n",
    "\n",
    "gender_correct = X_correct['gender']\n",
    "msi_correct = X_correct['msi']\n",
    "X_correct = X_correct.drop(['gender', 'msi'], axis=1, inplace=False)\n",
    "\n",
    "columns = X_correct.columns"
   ]
  },
  {
   "cell_type": "code",
   "execution_count": 10,
   "metadata": {},
   "outputs": [],
   "source": [
    "# X_correct\n",
    "# gender_correct\n",
    "# msi_correct"
   ]
  },
  {
   "cell_type": "code",
   "execution_count": 11,
   "metadata": {},
   "outputs": [],
   "source": [
    "X_gender_train, X_gender_valid, y_gender_train, y_gender_valid =\\\n",
    "\\\n",
    "    train_test_split(X_correct.values.astype(int),\n",
    "                     gender_correct, \n",
    "                     test_size=0.3)"
   ]
  },
  {
   "cell_type": "code",
   "execution_count": 12,
   "metadata": {},
   "outputs": [],
   "source": [
    "# X_train\n",
    "# X_valid\n",
    "# y_train\n",
    "# y_valid"
   ]
  },
  {
   "cell_type": "code",
   "execution_count": 13,
   "metadata": {},
   "outputs": [],
   "source": [
    "# forest = RandomForestClassifier(n_estimators=500, \n",
    "#                                 n_jobs=-1, \n",
    "#                                 oob_score=True)\n",
    "\n",
    "# # sorted(forest.get_params().keys())\n",
    "\n",
    "# gs = GridSearchCV(estimator=forest,\n",
    "#                   param_grid=[{'min_samples_leaf':[1, 3, 5, 10, 25, 100], \n",
    "#                                'max_features':[None, 0.5, 'sqrt', 'log2']}],\n",
    "#                   scoring='accuracy',\n",
    "#                   cv=5,)\n",
    "\n",
    "# gs = gs.fit(X_gender_train, y_gender_train)\n",
    "# print(gs.best_score_)\n",
    "# print(gs.best_params_)"
   ]
  },
  {
   "cell_type": "code",
   "execution_count": 17,
   "metadata": {},
   "outputs": [
    {
     "name": "stdout",
     "output_type": "stream",
     "text": [
      " 1) DDX3Y                          0.492666\n",
      " 2) UTY                            0.173533\n",
      " 3) RPS4Y1                         0.168429\n",
      " 4) EIF1AY                         0.025072\n",
      " 5) TMSB4Y                         0.024864\n",
      " 6) GYG2P1                         0.021672\n",
      " 7) PRKY                           0.016430\n",
      " 8) KDM6A                          0.005332\n",
      " 9) ZFX                            0.004983\n",
      "10) ZRSR2                          0.003193\n",
      "11) BEX5                           0.002226\n",
      "12) XIST                           0.001915\n",
      "13) NMU                            0.001707\n",
      "14) TMEM176B                       0.000884\n",
      "15) DES                            0.000720\n",
      "16) GPT                            0.000659\n",
      "17) AKR7L                          0.000653\n",
      "18) YPEL5                          0.000597\n",
      "19) PIGW                           0.000584\n",
      "20) TCEANC                         0.000560\n",
      "21) GDAP2                          0.000543\n",
      "22) EPHX2                          0.000526\n",
      "23) C11orf74                       0.000511\n",
      "24) HOXA5                          0.000494\n",
      "25) C1D                            0.000484\n",
      "26) SLC25A13                       0.000479\n",
      "27) SRP68                          0.000464\n",
      "28) PTGS2                          0.000441\n",
      "29) CEACAM1                        0.000427\n",
      "30) LOC728392                      0.000421\n",
      "31) HHEX                           0.000421\n",
      "32) ASRGL1                         0.000421\n",
      "33) FDXR                           0.000410\n",
      "34) CXCL5                          0.000408\n",
      "35) HOXA9                          0.000405\n",
      "36) POLG                           0.000405\n",
      "37) SLC35F2                        0.000405\n",
      "38) NSFP1                          0.000400\n",
      "39) KCTD1                          0.000391\n",
      "40) SAMD5                          0.000391\n",
      "41) MFAP3L                         0.000379\n",
      "42) FAM166A                        0.000373\n",
      "43) CHST4                          0.000373\n",
      "44) SERPINE1                       0.000371\n",
      "45) PRKD3                          0.000363\n",
      "46) CDS2                           0.000357\n",
      "47) HOXA7                          0.000357\n",
      "48) PSD3                           0.000354\n",
      "49) SP4                            0.000353\n",
      "50) ZNF93                          0.000336\n",
      "51) LILRB2                         0.000332\n",
      "52) SLC26A2                        0.000317\n",
      "53) OR7E14P                        0.000316\n",
      "54) C4orf32                        0.000299\n",
      "55) ARMC7                          0.000296\n",
      "56) SMNDC1                         0.000296\n",
      "57) SLX1B                          0.000293\n",
      "58) ATG10                          0.000292\n",
      "59) CDCA7                          0.000288\n",
      "60) CITED1                         0.000288\n",
      "61) HNF1A                          0.000288\n",
      "62) VIP                            0.000288\n",
      "63) COL9A3                         0.000280\n",
      "64) HUNK                           0.000280\n",
      "65) MECOM                          0.000280\n",
      "66) IRGQ                           0.000277\n",
      "67) UBE3C                          0.000277\n",
      "68) MYH11                          0.000270\n",
      "69) PAX9                           0.000266\n",
      "70) CNST                           0.000266\n",
      "71) REG1B                          0.000266\n",
      "72) CES3                           0.000266\n",
      "73) TMEM9                          0.000266\n",
      "74) PEAR1                          0.000266\n",
      "75) GABRB3                         0.000266\n",
      "76) TTTY15                         0.000255\n",
      "77) PGM5                           0.000255\n",
      "78) SLC25A21                       0.000255\n",
      "79) CRELD2                         0.000255\n",
      "80) KLHDC8B                        0.000246\n",
      "81) RNF24                          0.000245\n",
      "82) ALDOA                          0.000245\n",
      "83) RAPGEF5                        0.000245\n",
      "84) FOXJ1                          0.000244\n",
      "85) KRAS                           0.000239\n",
      "86) GAN                            0.000237\n",
      "87) HIST1H3B                       0.000237\n",
      "88) ZNF334                         0.000237\n",
      "89) ARL3                           0.000237\n",
      "90) CKS1B                          0.000236\n",
      "91) THEM6                          0.000232\n",
      "92) ADAM12                         0.000231\n",
      "93) KIAA0586                       0.000231\n",
      "94) MARVELD3                       0.000231\n",
      "95) PCP4                           0.000231\n",
      "96) SNORA57                        0.000223\n",
      "97) TMEM86A                        0.000223\n",
      "98) FRMD3                          0.000221\n",
      "99) MARCH2                         0.000221\n",
      "100) PLA2G4A                        0.000220\n"
     ]
    },
    {
     "data": {
      "text/plain": [
       "<BarContainer object of 17447 artists>"
      ]
     },
     "execution_count": 17,
     "metadata": {},
     "output_type": "execute_result"
    },
    {
     "data": {
      "image/png": "[encoded data removed]",
      "text/plain": [
       "<Figure size 432x288 with 1 Axes>"
      ]
     },
     "metadata": {},
     "output_type": "display_data"
    }
   ],
   "source": [
    "gender_forest = RandomForestClassifier(n_estimators=500,\n",
    "                                min_samples_leaf=3,\n",
    "                                max_features=None,\n",
    "                                n_jobs=-1, \n",
    "                                oob_score=True)\n",
    "\n",
    "gender_forest.fit(X_gender_train, y_gender_train)\n",
    "\n",
    "gender_importances = gender_forest.feature_importances_\n",
    "gender_indices = np.argsort(gender_importances)[::-1]\n",
    "\n",
    "# for f in range(X_gender_train[1]): # to get the full results\n",
    "for f in range(100):\n",
    "    print(\"%2d) %-*s %f\" % (f + 1, \n",
    "                            30, \n",
    "                            columns[gender_indices[f]], \n",
    "                            gender_importances[gender_indices[f]]))\n",
    "    \n",
    "plt.title('Feature Importance')\n",
    "\n",
    "plt.bar(range(X_gender_train.shape[1]), \n",
    "        gender_importances[gender_indices], \n",
    "        align='center')"
   ]
  },
  {
   "cell_type": "code",
   "execution_count": 18,
   "metadata": {},
   "outputs": [
    {
     "name": "stdout",
     "output_type": "stream",
     "text": [
      "k=5 Nearest Neighbors: \n",
      "              precision    recall  f1-score   support\n",
      "\n",
      "          0       0.80      0.40      0.53        10\n",
      "          1       0.62      0.91      0.74        11\n",
      "\n",
      "avg / total       0.71      0.67      0.64        21\n",
      "\n",
      "OOB score:  0.9148936170212766\n"
     ]
    }
   ],
   "source": [
    "y_gender_pred = gender_forest.predict(X_gender_valid)\n",
    "\n",
    "print('k=5 Nearest Neighbors: \\n', \n",
    "      classification_report(y_true=y_gender_valid, y_pred=y_gender_pred))\n",
    "\n",
    "print('OOB score: ', gender_forest.oob_score_)"
   ]
  },
  {
   "cell_type": "code",
   "execution_count": 19,
   "metadata": {},
   "outputs": [],
   "source": [
    "gender_select = SelectFromModel(gender_forest, threshold=0.001)\n",
    "\n",
    "gender_select.fit(X_gender_train, y_gender_train)\n",
    "\n",
    "X_gender_important_train = gender_select.transform(X_gender_train)\n",
    "X_gender_important_train_df = pd.DataFrame(X_gender_important_train)\n",
    "X_gender_important_valid = gender_select.transform(X_gender_valid)"
   ]
  },
  {
   "cell_type": "code",
   "execution_count": 20,
   "metadata": {},
   "outputs": [
    {
     "name": "stdout",
     "output_type": "stream",
     "text": [
      "k=5 Nearest Neighbors: \n",
      "              precision    recall  f1-score   support\n",
      "\n",
      "          0       0.80      0.40      0.53        10\n",
      "          1       0.62      0.91      0.74        11\n",
      "\n",
      "avg / total       0.71      0.67      0.64        21\n",
      "\n",
      "OOB score:  0.9148936170212766\n"
     ]
    }
   ],
   "source": [
    "gender_forest.fit(X_gender_important_train, y_gender_train)\n",
    "y_pred = gender_forest.predict(X_gender_important_valid)\n",
    "\n",
    "print('k=5 Nearest Neighbors: \\n', \n",
    "      classification_report(y_true=y_gender_valid, y_pred=y_gender_pred))\n",
    "\n",
    "print('OOB score: ', gender_forest.oob_score_)"
   ]
  },
  {
   "cell_type": "code",
   "execution_count": 21,
   "metadata": {},
   "outputs": [
    {
     "data": {
      "image/png": "[encoded data removed]",
      "text/plain": [
       "<Figure size 1152x720 with 1 Axes>"
      ]
     },
     "metadata": {},
     "output_type": "display_data"
    }
   ],
   "source": [
    "gender_corr = np.round(\n",
    "                   scipy.stats.spearmanr(X_gender_important_train).correlation\n",
    "                   , 4)\n",
    "\n",
    "gender_corr_condensed = hc.distance.squareform(1-gender_corr)\n",
    "\n",
    "z = hc.linkage(gender_corr_condensed, method='average')\n",
    "fig = plt.figure(figsize=(16,10))\n",
    "gender_dendrogram = hc.dendrogram(\n",
    "    z, \n",
    "    labels=X_gender_important_train_df.columns, \n",
    "    orientation='left', \n",
    "    leaf_font_size=16)\n",
    "\n",
    "plt.show()"
   ]
  },
  {
   "cell_type": "code",
   "execution_count": 22,
   "metadata": {},
   "outputs": [],
   "source": [
    "X_msi_train, X_msi_valid, y_msi_train, y_msi_valid =\\\n",
    "\\\n",
    "    train_test_split(X_correct.values.astype(int),\n",
    "                     msi_correct,\n",
    "                     test_size=0.3)"
   ]
  },
  {
   "cell_type": "code",
   "execution_count": 23,
   "metadata": {},
   "outputs": [],
   "source": [
    "# forest = RandomForestClassifier(n_estimators=500, \n",
    "#                                 n_jobs=-1, \n",
    "#                                 oob_score=True)\n",
    "\n",
    "# # sorted(forest.get_params().keys())\n",
    "\n",
    "# gs = GridSearchCV(estimator=forest,\n",
    "#                   param_grid=[{'min_samples_leaf':[1, 3, 5, 10, 25, 100], \n",
    "#                                'max_features':[None, 0.5, 'sqrt', 'log2']}],\n",
    "#                   scoring='accuracy',\n",
    "#                   cv=5,)\n",
    "\n",
    "# gs = gs.fit(X_msi_train, y_msi_train)\n",
    "# print(gs.best_score_)\n",
    "# print(gs.best_params_)"
   ]
  },
  {
   "cell_type": "code",
   "execution_count": 24,
   "metadata": {},
   "outputs": [
    {
     "name": "stdout",
     "output_type": "stream",
     "text": [
      " 1) POU5F1B                        0.370926\n",
      " 2) CIITA                          0.057445\n",
      " 3) IRF1                           0.057444\n",
      " 4) RAB32                          0.049792\n",
      " 5) GBP4                           0.027734\n",
      " 6) MAX                            0.025904\n",
      " 7) SMCHD1                         0.019892\n",
      " 8) ODF3B                          0.019735\n",
      " 9) CCL4                           0.013971\n",
      "10) TGFBR2                         0.013837\n",
      "11) PRSS23                         0.013830\n",
      "12) DNAH14                         0.013829\n",
      "13) APOL2                          0.011931\n",
      "14) CAMK2N2                        0.011910\n",
      "15) TNFAIP2                        0.011864\n",
      "16) AFAP1-AS1                      0.011757\n",
      "17) IRX2                           0.009951\n",
      "18) BATF2                          0.009927\n",
      "19) AREG                           0.009811\n",
      "20) EPDR1                          0.008000\n",
      "21) ZCCHC2                         0.008000\n",
      "22) AXIN2                          0.008000\n",
      "23) APOC1P1                        0.008000\n",
      "24) DPEP1                          0.006000\n",
      "25) TCIRG1                         0.006000\n",
      "26) CD74                           0.006000\n",
      "27) PRDM8                          0.004000\n",
      "28) PRSS27                         0.004000\n",
      "29) ANTXR2                         0.004000\n",
      "30) MYRIP                          0.004000\n",
      "31) CX3CL1                         0.004000\n",
      "32) SESN1                          0.004000\n",
      "33) APOL3                          0.004000\n",
      "34) UBD                            0.003960\n",
      "35) LAG3                           0.003946\n",
      "36) JAK2                           0.003940\n",
      "37) CD109                          0.002130\n",
      "38) MLF1                           0.002093\n",
      "39) TNNC2                          0.002054\n",
      "40) LAP3                           0.002000\n",
      "41) LOC100131289                   0.002000\n",
      "42) DTX3L                          0.002000\n",
      "43) CXCL10                         0.002000\n",
      "44) HINT3                          0.002000\n",
      "45) RNLS                           0.002000\n",
      "46) EDNRB                          0.002000\n",
      "47) KDSR                           0.002000\n",
      "48) ICAM1                          0.002000\n",
      "49) URGCP-MRPS24                   0.002000\n",
      "50) EOMES                          0.002000\n",
      "51) HHEX                           0.002000\n",
      "52) ARHGAP10                       0.002000\n",
      "53) FRZB                           0.002000\n",
      "54) DNAJB2                         0.002000\n",
      "55) GPR25                          0.002000\n",
      "56) SOCS1                          0.002000\n",
      "57) RNF43                          0.002000\n",
      "58) COCH                           0.002000\n",
      "59) ANK1                           0.002000\n",
      "60) LYG1                           0.002000\n",
      "61) KLK12                          0.002000\n",
      "62) GSE1                           0.002000\n",
      "63) DPP4                           0.002000\n",
      "64) CHN2                           0.002000\n",
      "65) ZNF503-AS1                     0.002000\n",
      "66) SECTM1                         0.002000\n",
      "67) VAV3                           0.002000\n",
      "68) PLEKHB1                        0.002000\n",
      "69) GBP1P1                         0.002000\n",
      "70) CELP                           0.002000\n",
      "71) TP53TG1                        0.002000\n",
      "72) GUCY2C                         0.002000\n",
      "73) NUBPL                          0.002000\n",
      "74) GBP1                           0.002000\n",
      "75) GBP2                           0.002000\n",
      "76) MYOM3                          0.002000\n",
      "77) SIGLEC1                        0.002000\n",
      "78) ADAMTS2                        0.002000\n",
      "79) AMACR                          0.002000\n",
      "80) ITGAX                          0.002000\n",
      "81) IFI30                          0.002000\n",
      "82) DEFB1                          0.002000\n",
      "83) HSD3B7                         0.002000\n",
      "84) AIFM3                          0.002000\n",
      "85) CTTNBP2                        0.002000\n",
      "86) NFATC1                         0.002000\n",
      "87) FABP6                          0.002000\n",
      "88) HCST                           0.002000\n",
      "89) THRAP3                         0.002000\n",
      "90) FABP1                          0.002000\n",
      "91) SNCAIP                         0.002000\n",
      "92) BATF3                          0.002000\n",
      "93) DACH1                          0.002000\n",
      "94) TRIB2                          0.002000\n",
      "95) MICALCL                        0.002000\n",
      "96) PLLP                           0.002000\n",
      "97) PLEK                           0.001971\n",
      "98) BEX2                           0.001970\n",
      "99) DYNLRB1                        0.001970\n",
      "100) GSPT2                          0.001964\n"
     ]
    },
    {
     "data": {
      "text/plain": [
       "<BarContainer object of 17447 artists>"
      ]
     },
     "execution_count": 24,
     "metadata": {},
     "output_type": "execute_result"
    },
    {
     "data": {
      "image/png": "[encoded data removed]",
      "text/plain": [
       "<Figure size 432x288 with 1 Axes>"
      ]
     },
     "metadata": {},
     "output_type": "display_data"
    }
   ],
   "source": [
    "msi_forest = RandomForestClassifier(n_estimators=500,\n",
    "                                min_samples_leaf=5,\n",
    "                                max_features=None,\n",
    "                                n_jobs=-1, \n",
    "                                oob_score=True)\n",
    "\n",
    "msi_forest.fit(X_msi_train, y_msi_train)\n",
    "\n",
    "msi_importances = msi_forest.feature_importances_\n",
    "msi_indices = np.argsort(msi_importances)[::-1]\n",
    "\n",
    "# for f in range(X_train.shape[1]): # to get the full results\n",
    "for f in range(100):\n",
    "    print(\"%2d) %-*s %f\" % (f + 1, \n",
    "                            30, \n",
    "                            columns[msi_indices[f]], \n",
    "                            msi_importances[msi_indices[f]]))\n",
    "    \n",
    "plt.title('Feature Importance')\n",
    "\n",
    "plt.bar(range(X_msi_train.shape[1]), \n",
    "        msi_importances[msi_indices], \n",
    "        align='center')"
   ]
  },
  {
   "cell_type": "code",
   "execution_count": 25,
   "metadata": {},
   "outputs": [
    {
     "name": "stdout",
     "output_type": "stream",
     "text": [
      "k=5 Nearest Neighbors: \n",
      "              precision    recall  f1-score   support\n",
      "\n",
      "          0       0.94      1.00      0.97        17\n",
      "          1       1.00      0.75      0.86         4\n",
      "\n",
      "avg / total       0.96      0.95      0.95        21\n",
      "\n",
      "OOB score:  0.9148936170212766\n"
     ]
    }
   ],
   "source": [
    "y_msi_pred = msi_forest.predict(X_msi_valid)\n",
    "\n",
    "print('k=5 Nearest Neighbors: \\n', \n",
    "      classification_report(y_true=y_msi_valid, y_pred=y_msi_pred))\n",
    "\n",
    "print('OOB score: ', msi_forest.oob_score_)"
   ]
  },
  {
   "cell_type": "code",
   "execution_count": 26,
   "metadata": {},
   "outputs": [],
   "source": [
    "msi_select = SelectFromModel(msi_forest, threshold=0.005)\n",
    "\n",
    "msi_select.fit(X_msi_train, y_msi_train)\n",
    "\n",
    "X_msi_important_train = msi_select.transform(X_msi_train)\n",
    "X_msi_important_train_df = pd.DataFrame(X_msi_important_train)\n",
    "X_msi_important_valid = msi_select.transform(X_msi_valid)"
   ]
  },
  {
   "cell_type": "code",
   "execution_count": 27,
   "metadata": {},
   "outputs": [
    {
     "name": "stdout",
     "output_type": "stream",
     "text": [
      "k=5 Nearest Neighbors: \n",
      "              precision    recall  f1-score   support\n",
      "\n",
      "          0       0.94      1.00      0.97        17\n",
      "          1       1.00      0.75      0.86         4\n",
      "\n",
      "avg / total       0.96      0.95      0.95        21\n",
      "\n",
      "OOB score:  0.9361702127659575\n"
     ]
    }
   ],
   "source": [
    "msi_forest.fit(X_msi_important_train, y_msi_train)\n",
    "y_msi_pred = msi_forest.predict(X_msi_important_valid)\n",
    "\n",
    "print('k=5 Nearest Neighbors: \\n', \n",
    "      classification_report(y_true=y_msi_valid, y_pred=y_msi_pred))\n",
    "\n",
    "print('OOB score: ', msi_forest.oob_score_)"
   ]
  },
  {
   "cell_type": "code",
   "execution_count": 28,
   "metadata": {},
   "outputs": [
    {
     "data": {
      "image/png": "[encoded data removed]",
      "text/plain": [
       "<Figure size 1152x720 with 1 Axes>"
      ]
     },
     "metadata": {},
     "output_type": "display_data"
    }
   ],
   "source": [
    "msi_corr = np.round(\n",
    "                scipy.stats.spearmanr(X_msi_important_train).correlation\n",
    "                , 4)\n",
    "\n",
    "msi_corr_condensed = hc.distance.squareform(1-msi_corr)\n",
    "\n",
    "msi_z = hc.linkage(msi_corr_condensed, method='average')\n",
    "fig = plt.figure(figsize=(16,10))\n",
    "\n",
    "msi_dendrogram = hc.dendrogram(msi_z, \n",
    "                               labels=X_msi_important_train_df.columns, \n",
    "                               orientation='left', \n",
    "                               leaf_font_size=16)\n",
    "plt.show()"
   ]
  },
  {
   "cell_type": "code",
   "execution_count": null,
   "metadata": {},
   "outputs": [],
   "source": []
  }
 ],
 "metadata": {
  "kernelspec": {
   "display_name": "Python 3",
   "language": "python",
   "name": "python3"
  },
  "language_info": {
   "codemirror_mode": {
    "name": "ipython",
    "version": 3
   },
   "file_extension": ".py",
   "mimetype": "text/x-python",
   "name": "python",
   "nbconvert_exporter": "python",
   "pygments_lexer": "ipython3",
   "version": "3.6.5"
  }
 },
 "nbformat": 4,
 "nbformat_minor": 2
}
